{
 "cells": [
  {
   "cell_type": "code",
   "execution_count": 8,
   "id": "e4cdafbc",
   "metadata": {},
   "outputs": [],
   "source": [
    "! pip3 install -q kaggle"
   ]
  },
  {
   "cell_type": "code",
   "execution_count": null,
   "id": "beb42c9b",
   "metadata": {},
   "outputs": [],
   "source": []
  },
  {
   "cell_type": "code",
   "execution_count": 7,
   "id": "645f06f8",
   "metadata": {},
   "outputs": [],
   "source": [
    "from src.model.classifier_model import ClassifierModel\n",
    "from src.data.datamodule import AnimalDataModule"
   ]
  },
  {
   "cell_type": "code",
   "execution_count": 10,
   "id": "e3da0c69",
   "metadata": {},
   "outputs": [],
   "source": [
    "data_config = dict(\n",
    "    image_dir = 'dataset/',\n",
    "    train_val_test_split = (0.75, 0.15, 0.10),\n",
    "    batch_size = 32,\n",
    "    num_workers = 0,\n",
    "    pin_memory = False\n",
    ")\n",
    "\n",
    "model_config = dict(\n",
    "    pretrained = True,\n",
    "    freeze_features = True,\n",
    "    num_classes = 3,\n",
    "    learning_rate = 0.001,\n",
    "    optimizer = 'adam',\n",
    "    beta_1 = 0.9,\n",
    "    beta_2 = 0.999,\n",
    "    momentum = 0.9,\n",
    "    weight_decay = 0.0001\n",
    ")"
   ]
  },
  {
   "cell_type": "code",
   "execution_count": null,
   "id": "5d1dea7e",
   "metadata": {},
   "outputs": [],
   "source": []
  }
 ],
 "metadata": {
  "kernelspec": {
   "display_name": "Python 3 (ipykernel)",
   "language": "python",
   "name": "python3"
  },
  "language_info": {
   "codemirror_mode": {
    "name": "ipython",
    "version": 3
   },
   "file_extension": ".py",
   "mimetype": "text/x-python",
   "name": "python",
   "nbconvert_exporter": "python",
   "pygments_lexer": "ipython3",
   "version": "3.8.5"
  }
 },
 "nbformat": 4,
 "nbformat_minor": 5
}
