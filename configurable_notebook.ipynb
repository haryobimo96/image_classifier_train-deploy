{
 "cells": [
  {
   "cell_type": "code",
   "execution_count": null,
   "source": [
    "from src.model.classifier_model import ClassifierModel\r\n",
    "from src.data.datamodule import AnimalDataModule"
   ],
   "outputs": [],
   "metadata": {}
  },
  {
   "cell_type": "code",
   "execution_count": null,
   "source": [
    "data_config = dict(\r\n",
    "    image_dir = 'dataset/',\r\n",
    "    train_val_test_split = (0.75, 0.15, 0.10),\r\n",
    "    batch_size = 32,\r\n",
    "    num_workers = 0,\r\n",
    "    pin_memory = False\r\n",
    ")\r\n",
    "\r\n",
    "model_config = dict(\r\n",
    "    pretrained = True,\r\n",
    "    freeze_features = True,\r\n",
    "    num_classes = 3,\r\n",
    "    learning_rate = 0.001,\r\n",
    "    optimizer = 'adam',\r\n",
    "    beta_1 = 0.9,\r\n",
    "    beta_2 = 0.999,\r\n",
    "    momentum = 0.9,\r\n",
    "    weight_decay = 0.0001\r\n",
    ")\r\n",
    "\r\n",
    "experiment_name = 'three_animals_test'"
   ],
   "outputs": [],
   "metadata": {}
  },
  {
   "cell_type": "code",
   "execution_count": null,
   "source": [
    "data = AnimalDataModule(**data_config)\r\n",
    "model = ClassifierModel(**model_config)"
   ],
   "outputs": [],
   "metadata": {}
  },
  {
   "cell_type": "code",
   "execution_count": null,
   "source": [
    "from pytorch_lightning import Trainer\r\n",
    "from pytorch_lightning.callbacks.model_checkpoint import ModelCheckpoint\r\n",
    "from pytorch_lightning.loggers import TensorBoardLogger\r\n",
    "from src.misc.misc import datetime_now\r\n",
    "\r\n",
    "callbacks = ModelCheckpoint(\r\n",
    "    dirpath = 'logs/'+datetime_now(),\r\n",
    "    mode = 'min',\r\n",
    "    monitor = 'val_loss',\r\n",
    "    save_weights_only = True,\r\n",
    "    save_top_k = 1,\r\n",
    ")\r\n",
    "\r\n",
    "\r\n",
    "trainer = Trainer(\r\n",
    "    max_epochs = 1,\r\n",
    "    callbacks = [callbacks],\r\n",
    "    checkpoint_callback  = True\r\n",
    ")"
   ],
   "outputs": [],
   "metadata": {}
  },
  {
   "cell_type": "code",
   "execution_count": null,
   "source": [
    "import mlflow\r\n",
    "from src.logger.utils import MlflowConfig\r\n",
    "\r\n",
    "mlflow_config = MlflowConfig(\r\n",
    "    experiment_name = experiment_name,\r\n",
    "    tracking_uri = 'http://0.0.0.0:7777'\r\n",
    ")\r\n",
    "\r\n",
    "mlflow.pytorch.autolog()\r\n",
    "experiment_id_ = mlflow_config.experiment_id()\r\n",
    "with mlflow.start_run(experiment_id = experiment_id_) as run:\r\n",
    "    trainer.fit(model, data)\r\n",
    "    mlflow.log_param('pretrained', pretrained)\r\n",
    "    mlflow.log_param('num_classes', num_classes)\r\n",
    "    mlflow.log_param('freeze_features', freeze_features)\r\n",
    "\r\n",
    "run_id = run.info.run_id\r\n",
    "\r\n",
    "mlflow_config.compare_and_register(\r\n",
    "    run_id = run_id,\r\n",
    "    registered_model_name = 'classifier_model')"
   ],
   "outputs": [],
   "metadata": {}
  }
 ],
 "metadata": {
  "interpreter": {
   "hash": "4ce0e62306dd6a5716965d4519ada776f947e6dfc145b604b11307c10277ef29"
  },
  "kernelspec": {
   "name": "python3",
   "display_name": "Python 3.8.5 64-bit"
  },
  "language_info": {
   "codemirror_mode": {
    "name": "ipython",
    "version": 3
   },
   "file_extension": ".py",
   "mimetype": "text/x-python",
   "name": "python",
   "nbconvert_exporter": "python",
   "pygments_lexer": "ipython3",
   "version": "3.8.5"
  }
 },
 "nbformat": 4,
 "nbformat_minor": 5
}