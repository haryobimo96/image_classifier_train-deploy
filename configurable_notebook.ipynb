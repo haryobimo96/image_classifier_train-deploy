{
 "cells": [
  {
   "cell_type": "code",
   "execution_count": null,
   "id": "cc89b3a8",
   "metadata": {},
   "outputs": [],
   "source": [
    "from src.model.classifier_model import ClassifierModel\n",
    "from src.data.datamodule import AnimalDataModule"
   ]
  },
  {
   "cell_type": "code",
   "execution_count": null,
   "id": "292e87ca",
   "metadata": {},
   "outputs": [],
   "source": [
    "data_config = dict(\n",
    "    image_dir = 'dataset/',\n",
    "    train_val_test_split = (0.75, 0.15, 0.10),\n",
    "    batch_size = 32,\n",
    "    num_workers = 0,\n",
    "    pin_memory = False\n",
    ")\n",
    "\n",
    "model_config = dict(\n",
    "    pretrained = True,\n",
    "    freeze_features = True,\n",
    "    num_classes = 3,\n",
    "    learning_rate = 0.001,\n",
    "    optimizer = 'adam',\n",
    "    beta_1 = 0.9,\n",
    "    beta_2 = 0.999,\n",
    "    momentum = 0.9,\n",
    "    weight_decay = 0.0001\n",
    ")\n",
    "\n",
    "experiment_name = 'three_animals_test'"
   ]
  },
  {
   "cell_type": "code",
   "execution_count": null,
   "id": "912d8446",
   "metadata": {},
   "outputs": [],
   "source": [
    "data = AnimalDataModule(**data_config)\n",
    "model = ClassifierModel(**model_config)"
   ]
  },
  {
   "cell_type": "code",
   "execution_count": null,
   "id": "691fbd0d",
   "metadata": {},
   "outputs": [],
   "source": [
    "from pytorch_lightning import Trainer\n",
    "from pytorch_lightning.callbacks.model_checkpoint import ModelCheckpoint\n",
    "from pytorch_lightning.loggers import TensorBoardLogger\n",
    "from src.misc.misc import datetime_now\n",
    "\n",
    "callbacks = ModelCheckpoint(\n",
    "    dirpath = 'logs/'+datetime_now(),\n",
    "    mode = 'min',\n",
    "    monitor = 'val_loss',\n",
    "    save_weights_only = True,\n",
    "    save_top_k = 1,\n",
    ")\n",
    "\n",
    "\n",
    "trainer = Trainer(\n",
    "    max_epochs = 1,\n",
    "    callbacks = [callbacks],\n",
    "    checkpoint_callback  = True\n",
    ")"
   ]
  },
  {
   "cell_type": "code",
   "execution_count": null,
   "id": "28796ce1",
   "metadata": {},
   "outputs": [],
   "source": [
    "import mlflow\n",
    "from src.logger.utils import experiment_id\n",
    "\n",
    "mlflow.pytorch.autolog()\n",
    "experiment_id_ = experiment_id(experiment_name = experiment_name)\n",
    "with mlflow.start_run(experiment_id = experiment_id_) as run:\n",
    "    trainer.fit(model, data)\n",
    "    mlflow.log_param('pretrained', pretrained)\n",
    "    mlflow.log_param('num_classes', num_classes)\n",
    "    mlflow.log_param('freeze_features', freeze_features)"
   ]
  }
 ],
 "metadata": {
  "interpreter": {
   "hash": "4ce0e62306dd6a5716965d4519ada776f947e6dfc145b604b11307c10277ef29"
  },
  "kernelspec": {
   "display_name": "Python 3 (ipykernel)",
   "language": "python",
   "name": "python3"
  },
  "language_info": {
   "codemirror_mode": {
    "name": "ipython",
    "version": 3
   },
   "file_extension": ".py",
   "mimetype": "text/x-python",
   "name": "python",
   "nbconvert_exporter": "python",
   "pygments_lexer": "ipython3",
   "version": "3.8.5"
  }
 },
 "nbformat": 4,
 "nbformat_minor": 5
}
